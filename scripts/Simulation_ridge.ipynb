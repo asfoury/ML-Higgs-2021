{
 "cells": [
  {
   "cell_type": "code",
   "execution_count": 1,
   "metadata": {},
   "outputs": [],
   "source": [
    "# Useful starting lines\n",
    "%matplotlib inline\n",
    "import numpy as np\n",
    "import matplotlib.pyplot as plt\n",
    "%load_ext autoreload\n",
    "%autoreload 2\n",
    "from proj1_helpers import *\n",
    "from implementations import *\n",
    "from costs import *\n",
    "from process import *"
   ]
  },
  {
   "cell_type": "code",
   "execution_count": 4,
   "metadata": {},
   "outputs": [],
   "source": [
    "from proj1_helpers import *\n",
    "DATA_TRAIN_PATH = '../data/train.csv' # TODO: download train data and supply path here \n",
    "y, tX, ids = load_csv_data(DATA_TRAIN_PATH)\n",
    "\n",
    "\n",
    "DATA_TEST_PATH = '../data/test.csv' # TODO: download train data and supply path here \n",
    "_, tX_test, ids_test = load_csv_data(DATA_TEST_PATH)\n"
   ]
  },
  {
   "cell_type": "code",
   "execution_count": 5,
   "metadata": {},
   "outputs": [],
   "source": [
    "#***********CONST*************#\n",
    "#Setting features to discard, optimal degrees for polyExp and lambdas  for each jet=0,1,2,3\n",
    "to_discard = ([[4,5,6,12,22,23,24,25,26,27,28,29],[4,5,6,12,22,26,27,28],[22], [22]])\n",
    "degrees_opti = np.array([5,9,8,8])\n",
    "lambdas_opti = np.array([10e-8, 10e-8,  10e-8, 10e-8])\n",
    "\n",
    "\n",
    "#***********MAIN*************#\n",
    "def main(X_tr, Y_tr, X_te ):\n",
    "\n",
    "    #init final predictions vector\n",
    "    y_fin = np.zeros(X_te.shape[0])\n",
    "    #tX_test\n",
    "\n",
    "    for jet_num in range(4):\n",
    "\n",
    "\n",
    "        #initialize the mask according to jet_num\n",
    "        mask_tr, mask_te = masks(X_tr,X_te,jet_num)\n",
    "\n",
    "\n",
    "        #Set parameters\n",
    "        features_to_discard = to_discard[jet_num]\n",
    "        degree = degrees_opti[jet_num]\n",
    "        lambda_ = lambdas_opti[jet_num]\n",
    "\n",
    "\n",
    "        #filter on jet_num\n",
    "        ## for training\n",
    "        x_tr = X_tr[mask_tr]\n",
    "        y_tr = Y_tr[mask_tr]\n",
    "        ## for Testing \n",
    "        x_te = X_te[mask_te]\n",
    "\n",
    "        #process\n",
    "        tx_tr,tx_te = process(x_tr, x_te, jet_num, features_to_discard, degree, stan = 1 )\n",
    "\n",
    "        #train\n",
    "        w_star, loss_tr = ridge_regression(y_tr,tx_tr,lambda_)\n",
    "\n",
    "        #store in y_pred\n",
    "        pred = predict_labels(w_star,tx_te)\n",
    "        y_fin[mask_te] = pred\n",
    "        \n",
    "    print(\"done\")\n",
    "    return y_fin\n"
   ]
  },
  {
   "cell_type": "code",
   "execution_count": 6,
   "metadata": {},
   "outputs": [
    {
     "name": "stdout",
     "output_type": "stream",
     "text": [
      "done\n",
      "82.792 %\n"
     ]
    }
   ],
   "source": [
    "#Run by splitting the data  \n",
    "ratio =0.75\n",
    "x_tr,y_tr,x_te,y_te = split_data(tX, y, ratio, seed=22)\n",
    "y_fin = main(x_tr,y_tr,x_te)\n",
    "\n",
    "#See Accuracy\n",
    "print(compute_accuracy(y_fin,y_te),\"%\")"
   ]
  },
  {
   "cell_type": "code",
   "execution_count": 259,
   "metadata": {},
   "outputs": [
    {
     "name": "stdout",
     "output_type": "stream",
     "text": [
      "done\n"
     ]
    }
   ],
   "source": [
    "#******Run_for_Submission******#\n",
    "\n",
    "#OUTPUT_PATH = '../data/predictions6_ridge.csv' # TODO: fill in desired name of output file for submission\n",
    "#y_pred = main(tX,y,tX_test)\n",
    "#create_csv_submission(ids_test, y_pred, OUTPUT_PATH)"
   ]
  },
  {
   "cell_type": "code",
   "execution_count": null,
   "metadata": {},
   "outputs": [],
   "source": []
  }
 ],
 "metadata": {
  "anaconda-cloud": {},
  "kernelspec": {
   "display_name": "Python 3",
   "language": "python",
   "name": "python3"
  },
  "language_info": {
   "codemirror_mode": {
    "name": "ipython",
    "version": 3
   },
   "file_extension": ".py",
   "mimetype": "text/x-python",
   "name": "python",
   "nbconvert_exporter": "python",
   "pygments_lexer": "ipython3",
   "version": "3.8.5"
  }
 },
 "nbformat": 4,
 "nbformat_minor": 4
}
